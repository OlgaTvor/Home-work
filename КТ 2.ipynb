{
 "cells": [
  {
   "cell_type": "code",
   "execution_count": 1,
   "id": "f5e03ee0",
   "metadata": {},
   "outputs": [],
   "source": [
    "import pandas as pd\n",
    "import matplotlib.pyplot as plt\n",
    "import seaborn as sns\n",
    "import numpy as np\n",
    "from scipy import stats as st\n",
    "from sklearn.model_selection import train_test_split\n",
    "from sklearn.preprocessing import StandardScaler\n",
    "from sklearn.linear_model import LinearRegression\n",
    "from sklearn.metrics import mean_absolute_error, mean_squared_error, r2_score, mean_absolute_percentage_error"
   ]
  },
  {
   "cell_type": "code",
   "execution_count": 2,
   "id": "9e0bdcb8",
   "metadata": {},
   "outputs": [],
   "source": [
    "df = pd.read_csv('Student_Marks.csv')"
   ]
  },
  {
   "cell_type": "code",
   "execution_count": 3,
   "id": "b46b07c1",
   "metadata": {},
   "outputs": [
    {
     "name": "stdout",
     "output_type": "stream",
     "text": [
      "<class 'pandas.core.frame.DataFrame'>\n",
      "RangeIndex: 100 entries, 0 to 99\n",
      "Data columns (total 3 columns):\n",
      " #   Column          Non-Null Count  Dtype  \n",
      "---  ------          --------------  -----  \n",
      " 0   number_courses  100 non-null    int64  \n",
      " 1   time_study      100 non-null    float64\n",
      " 2   Marks           100 non-null    float64\n",
      "dtypes: float64(2), int64(1)\n",
      "memory usage: 2.5 KB\n"
     ]
    }
   ],
   "source": [
    "df.info()"
   ]
  },
  {
   "cell_type": "code",
   "execution_count": 4,
   "id": "0601cc42",
   "metadata": {},
   "outputs": [
    {
     "data": {
      "text/html": [
       "<div>\n",
       "<style scoped>\n",
       "    .dataframe tbody tr th:only-of-type {\n",
       "        vertical-align: middle;\n",
       "    }\n",
       "\n",
       "    .dataframe tbody tr th {\n",
       "        vertical-align: top;\n",
       "    }\n",
       "\n",
       "    .dataframe thead th {\n",
       "        text-align: right;\n",
       "    }\n",
       "</style>\n",
       "<table border=\"1\" class=\"dataframe\">\n",
       "  <thead>\n",
       "    <tr style=\"text-align: right;\">\n",
       "      <th></th>\n",
       "      <th>number_courses</th>\n",
       "      <th>time_study</th>\n",
       "      <th>Marks</th>\n",
       "    </tr>\n",
       "  </thead>\n",
       "  <tbody>\n",
       "    <tr>\n",
       "      <th>0</th>\n",
       "      <td>3</td>\n",
       "      <td>4.508</td>\n",
       "      <td>19.202</td>\n",
       "    </tr>\n",
       "    <tr>\n",
       "      <th>1</th>\n",
       "      <td>4</td>\n",
       "      <td>0.096</td>\n",
       "      <td>7.734</td>\n",
       "    </tr>\n",
       "    <tr>\n",
       "      <th>2</th>\n",
       "      <td>4</td>\n",
       "      <td>3.133</td>\n",
       "      <td>13.811</td>\n",
       "    </tr>\n",
       "    <tr>\n",
       "      <th>3</th>\n",
       "      <td>6</td>\n",
       "      <td>7.909</td>\n",
       "      <td>53.018</td>\n",
       "    </tr>\n",
       "    <tr>\n",
       "      <th>4</th>\n",
       "      <td>8</td>\n",
       "      <td>7.811</td>\n",
       "      <td>55.299</td>\n",
       "    </tr>\n",
       "  </tbody>\n",
       "</table>\n",
       "</div>"
      ],
      "text/plain": [
       "   number_courses  time_study   Marks\n",
       "0               3       4.508  19.202\n",
       "1               4       0.096   7.734\n",
       "2               4       3.133  13.811\n",
       "3               6       7.909  53.018\n",
       "4               8       7.811  55.299"
      ]
     },
     "execution_count": 4,
     "metadata": {},
     "output_type": "execute_result"
    }
   ],
   "source": [
    "df.head()"
   ]
  },
  {
   "cell_type": "code",
   "execution_count": 5,
   "id": "ea792d2f",
   "metadata": {},
   "outputs": [
    {
     "data": {
      "text/plain": [
       "0"
      ]
     },
     "execution_count": 5,
     "metadata": {},
     "output_type": "execute_result"
    }
   ],
   "source": [
    "df.duplicated().sum()"
   ]
  },
  {
   "cell_type": "code",
   "execution_count": 80,
   "id": "7bb9d83c",
   "metadata": {},
   "outputs": [
    {
     "data": {
      "text/plain": [
       "<Axes: >"
      ]
     },
     "execution_count": 80,
     "metadata": {},
     "output_type": "execute_result"
    },
    {
     "data": {
      "image/png": "[encoded data removed]",
      "text/plain": [
       "<Figure size 640x480 with 1 Axes>"
      ]
     },
     "metadata": {},
     "output_type": "display_data"
    }
   ],
   "source": [
    "sns.boxplot(df['time_study'])"
   ]
  },
  {
   "cell_type": "markdown",
   "id": "0ca15c54",
   "metadata": {},
   "source": [
    "Дубликатов нет, пропусков в данных нет, выбросов нет"
   ]
  },
  {
   "cell_type": "code",
   "execution_count": 6,
   "id": "00868bc4",
   "metadata": {},
   "outputs": [
    {
     "data": {
      "text/plain": [
       "Index(['number_courses', 'time_study', 'marks'], dtype='object')"
      ]
     },
     "execution_count": 6,
     "metadata": {},
     "output_type": "execute_result"
    }
   ],
   "source": [
    "df.columns = df.columns.str.lower() # приведем заголовки к единому формату\n",
    "df.columns"
   ]
  },
  {
   "cell_type": "markdown",
   "id": "a59d1151",
   "metadata": {},
   "source": [
    "Добавление фиктивных переменных"
   ]
  },
  {
   "cell_type": "code",
   "execution_count": 7,
   "id": "00a3c417",
   "metadata": {},
   "outputs": [],
   "source": [
    "# создадим фиктивные переменные\n",
    "dummy = pd.get_dummies(df['number_courses'], prefix='cours')"
   ]
  },
  {
   "cell_type": "code",
   "execution_count": 8,
   "id": "5e780acf",
   "metadata": {},
   "outputs": [],
   "source": [
    "# добавим фиктивные переменные в датасет\n",
    "date = pd.concat([df.drop(columns='number_courses'), dummy], axis=1)"
   ]
  },
  {
   "cell_type": "code",
   "execution_count": 9,
   "id": "9f1c3021",
   "metadata": {
    "scrolled": false
   },
   "outputs": [
    {
     "data": {
      "text/html": [
       "<div>\n",
       "<style scoped>\n",
       "    .dataframe tbody tr th:only-of-type {\n",
       "        vertical-align: middle;\n",
       "    }\n",
       "\n",
       "    .dataframe tbody tr th {\n",
       "        vertical-align: top;\n",
       "    }\n",
       "\n",
       "    .dataframe thead th {\n",
       "        text-align: right;\n",
       "    }\n",
       "</style>\n",
       "<table border=\"1\" class=\"dataframe\">\n",
       "  <thead>\n",
       "    <tr style=\"text-align: right;\">\n",
       "      <th></th>\n",
       "      <th>time_study</th>\n",
       "      <th>marks</th>\n",
       "      <th>cours_3</th>\n",
       "      <th>cours_4</th>\n",
       "      <th>cours_5</th>\n",
       "      <th>cours_6</th>\n",
       "      <th>cours_7</th>\n",
       "      <th>cours_8</th>\n",
       "    </tr>\n",
       "  </thead>\n",
       "  <tbody>\n",
       "    <tr>\n",
       "      <th>0</th>\n",
       "      <td>4.508</td>\n",
       "      <td>19.202</td>\n",
       "      <td>1</td>\n",
       "      <td>0</td>\n",
       "      <td>0</td>\n",
       "      <td>0</td>\n",
       "      <td>0</td>\n",
       "      <td>0</td>\n",
       "    </tr>\n",
       "    <tr>\n",
       "      <th>1</th>\n",
       "      <td>0.096</td>\n",
       "      <td>7.734</td>\n",
       "      <td>0</td>\n",
       "      <td>1</td>\n",
       "      <td>0</td>\n",
       "      <td>0</td>\n",
       "      <td>0</td>\n",
       "      <td>0</td>\n",
       "    </tr>\n",
       "    <tr>\n",
       "      <th>2</th>\n",
       "      <td>3.133</td>\n",
       "      <td>13.811</td>\n",
       "      <td>0</td>\n",
       "      <td>1</td>\n",
       "      <td>0</td>\n",
       "      <td>0</td>\n",
       "      <td>0</td>\n",
       "      <td>0</td>\n",
       "    </tr>\n",
       "    <tr>\n",
       "      <th>3</th>\n",
       "      <td>7.909</td>\n",
       "      <td>53.018</td>\n",
       "      <td>0</td>\n",
       "      <td>0</td>\n",
       "      <td>0</td>\n",
       "      <td>1</td>\n",
       "      <td>0</td>\n",
       "      <td>0</td>\n",
       "    </tr>\n",
       "    <tr>\n",
       "      <th>4</th>\n",
       "      <td>7.811</td>\n",
       "      <td>55.299</td>\n",
       "      <td>0</td>\n",
       "      <td>0</td>\n",
       "      <td>0</td>\n",
       "      <td>0</td>\n",
       "      <td>0</td>\n",
       "      <td>1</td>\n",
       "    </tr>\n",
       "    <tr>\n",
       "      <th>...</th>\n",
       "      <td>...</td>\n",
       "      <td>...</td>\n",
       "      <td>...</td>\n",
       "      <td>...</td>\n",
       "      <td>...</td>\n",
       "      <td>...</td>\n",
       "      <td>...</td>\n",
       "      <td>...</td>\n",
       "    </tr>\n",
       "    <tr>\n",
       "      <th>95</th>\n",
       "      <td>3.561</td>\n",
       "      <td>19.128</td>\n",
       "      <td>0</td>\n",
       "      <td>0</td>\n",
       "      <td>0</td>\n",
       "      <td>1</td>\n",
       "      <td>0</td>\n",
       "      <td>0</td>\n",
       "    </tr>\n",
       "    <tr>\n",
       "      <th>96</th>\n",
       "      <td>0.301</td>\n",
       "      <td>5.609</td>\n",
       "      <td>1</td>\n",
       "      <td>0</td>\n",
       "      <td>0</td>\n",
       "      <td>0</td>\n",
       "      <td>0</td>\n",
       "      <td>0</td>\n",
       "    </tr>\n",
       "    <tr>\n",
       "      <th>97</th>\n",
       "      <td>7.163</td>\n",
       "      <td>41.444</td>\n",
       "      <td>0</td>\n",
       "      <td>1</td>\n",
       "      <td>0</td>\n",
       "      <td>0</td>\n",
       "      <td>0</td>\n",
       "      <td>0</td>\n",
       "    </tr>\n",
       "    <tr>\n",
       "      <th>98</th>\n",
       "      <td>0.309</td>\n",
       "      <td>12.027</td>\n",
       "      <td>0</td>\n",
       "      <td>0</td>\n",
       "      <td>0</td>\n",
       "      <td>0</td>\n",
       "      <td>1</td>\n",
       "      <td>0</td>\n",
       "    </tr>\n",
       "    <tr>\n",
       "      <th>99</th>\n",
       "      <td>6.335</td>\n",
       "      <td>32.357</td>\n",
       "      <td>1</td>\n",
       "      <td>0</td>\n",
       "      <td>0</td>\n",
       "      <td>0</td>\n",
       "      <td>0</td>\n",
       "      <td>0</td>\n",
       "    </tr>\n",
       "  </tbody>\n",
       "</table>\n",
       "<p>100 rows × 8 columns</p>\n",
       "</div>"
      ],
      "text/plain": [
       "    time_study   marks  cours_3  cours_4  cours_5  cours_6  cours_7  cours_8\n",
       "0        4.508  19.202        1        0        0        0        0        0\n",
       "1        0.096   7.734        0        1        0        0        0        0\n",
       "2        3.133  13.811        0        1        0        0        0        0\n",
       "3        7.909  53.018        0        0        0        1        0        0\n",
       "4        7.811  55.299        0        0        0        0        0        1\n",
       "..         ...     ...      ...      ...      ...      ...      ...      ...\n",
       "95       3.561  19.128        0        0        0        1        0        0\n",
       "96       0.301   5.609        1        0        0        0        0        0\n",
       "97       7.163  41.444        0        1        0        0        0        0\n",
       "98       0.309  12.027        0        0        0        0        1        0\n",
       "99       6.335  32.357        1        0        0        0        0        0\n",
       "\n",
       "[100 rows x 8 columns]"
      ]
     },
     "execution_count": 9,
     "metadata": {},
     "output_type": "execute_result"
    }
   ],
   "source": [
    "date"
   ]
  },
  {
   "cell_type": "code",
   "execution_count": 10,
   "id": "867c92c1",
   "metadata": {},
   "outputs": [
    {
     "data": {
      "text/plain": [
       "<seaborn.axisgrid.PairGrid at 0x15816f0ea90>"
      ]
     },
     "execution_count": 10,
     "metadata": {},
     "output_type": "execute_result"
    },
    {
     "data": {
      "image/png": "[encoded data removed]",
      "text/plain": [
       "<Figure size 750x750 with 12 Axes>"
      ]
     },
     "metadata": {},
     "output_type": "display_data"
    }
   ],
   "source": [
    "# строим pairplot, посмотрим как выглядят данные\n",
    "sns.pairplot(df)"
   ]
  },
  {
   "cell_type": "markdown",
   "id": "bac957de",
   "metadata": {},
   "source": [
    "###### Линейная модель"
   ]
  },
  {
   "cell_type": "code",
   "execution_count": 76,
   "id": "3eba06cd",
   "metadata": {},
   "outputs": [
    {
     "name": "stdout",
     "output_type": "stream",
     "text": [
      "Коэффициент детерминации (R^2): 0.9431962709294611\n",
      "Среднеквадратическая ошибка (MSE): 10.633617886976149\n"
     ]
    }
   ],
   "source": [
    "x = df['time_study']\n",
    "y = df['marks']\n",
    "\n",
    "# преобразуем x  в одномерный массив Numpy\n",
    "x = np.array(x).reshape(-1, 1)\n",
    " \n",
    "# список y достаточно преобразовать в одномерный массив Numpy\n",
    "y = np.array(y)\n",
    "\n",
    "#разделяем данные на обучающую и валидационную выборку с random_state=13\n",
    "x_train, x_test, y_train, y_test = train_test_split(x, y, test_size=0.2, random_state=13) \n",
    "\n",
    "#стандартизируем переменные\n",
    "scaler = StandardScaler()\n",
    "x_train_st = scaler.fit_transform(x_train)\n",
    "x_test_st = scaler.transform(x_test)\n",
    "\n",
    "# создадим модель линейной регрессии\n",
    "model = LinearRegression()\n",
    "\n",
    "# обучим нашу модель\n",
    "model.fit(x_train_st, y_train)\n",
    "\n",
    "# делаем прогнозы\n",
    "predictions = model.predict(x_test_st)\n",
    "\n",
    "r2 = r2_score(y_test, predictions)\n",
    "print(\"Коэффициент детерминации (R^2):\", r2)\n",
    "mse = mean_squared_error(y_test, predictions)\n",
    "print(\"Среднеквадратическая ошибка (MSE):\", mse)"
   ]
  },
  {
   "cell_type": "code",
   "execution_count": 57,
   "id": "5559adfc",
   "metadata": {},
   "outputs": [
    {
     "data": {
      "text/plain": [
       "Index(['time_study', 'marks', 'cours_3', 'cours_4', 'cours_5', 'cours_6',\n",
       "       'cours_7', 'cours_8'],\n",
       "      dtype='object')"
      ]
     },
     "execution_count": 57,
     "metadata": {},
     "output_type": "execute_result"
    }
   ],
   "source": [
    "date.columns"
   ]
  },
  {
   "cell_type": "code",
   "execution_count": 77,
   "id": "1dce2830",
   "metadata": {},
   "outputs": [
    {
     "name": "stdout",
     "output_type": "stream",
     "text": [
      "Коэффициент детерминации (R^2): 0.9561682273918803\n",
      "Среднеквадратическая ошибка (MSE): 8.20527681632981\n"
     ]
    }
   ],
   "source": [
    "x = date[['time_study','cours_3', 'cours_4', 'cours_5', 'cours_6',\n",
    "       'cours_7', 'cours_8']]\n",
    "y = date['marks']\n",
    "\n",
    "# преобразуем x  в одномерный массив Numpy\n",
    "x = np.array(x)\n",
    " \n",
    "# список y достаточно преобразовать в одномерный массив Numpy\n",
    "y = np.array(y)\n",
    "\n",
    "#разделяем данные на обучающую и валидационную выборку с random_state=13\n",
    "x_train, x_test, y_train, y_test = train_test_split(x, y, test_size=0.2, random_state=13)\n",
    "\n",
    "#стандартизируем переменные\n",
    "scaler = StandardScaler()\n",
    "x_train_st = scaler.fit_transform(x_train)\n",
    "x_test_st = scaler.transform(x_test)\n",
    "\n",
    "# создадим модель линейной регрессии\n",
    "model = LinearRegression()\n",
    "\n",
    "# обучим нашу модель\n",
    "model.fit(x_train_st, y_train)\n",
    "\n",
    "# делаем прогнозы\n",
    "predictions = model.predict(x_test_st)\n",
    "\n",
    "r2 = r2_score(y_test, predictions)\n",
    "print(\"Коэффициент детерминации (R^2):\", r2)\n",
    "mse = mean_squared_error(y_test, predictions)\n",
    "print(\"Среднеквадратическая ошибка (MSE):\", mse)"
   ]
  },
  {
   "cell_type": "markdown",
   "id": "fcfb99f3",
   "metadata": {},
   "source": [
    "###### Гипербола"
   ]
  },
  {
   "cell_type": "code",
   "execution_count": 78,
   "id": "2e039ccc",
   "metadata": {},
   "outputs": [],
   "source": [
    "df_hip = df.copy()\n",
    "x = ['time_study']\n",
    "for i in x:\n",
    "    df_hip = df_hip[df_hip[i] != 0]\n",
    "    df_hip[i] = 1 / df_hip[i]"
   ]
  },
  {
   "cell_type": "code",
   "execution_count": 79,
   "id": "d1e40d61",
   "metadata": {},
   "outputs": [
    {
     "name": "stdout",
     "output_type": "stream",
     "text": [
      "Коэффициент детерминации (R^2): 0.2343088356910703\n",
      "Среднеквадратическая ошибка (MSE): 147.20333995176944\n"
     ]
    }
   ],
   "source": [
    "hip_model = LinearRegression()\n",
    "x = df_hip[['number_courses', 'time_study']]\n",
    "y = df_hip['marks']\n",
    "x_train, x_test, y_train, y_test = train_test_split(x, y, test_size=0.33, random_state=100)\n",
    "hip_model.fit(x_train, y_train)\n",
    "y_pred = hip_model.predict(x_test)\n",
    "r2 = r2_score(y_test, y_pred)\n",
    "print(\"Коэффициент детерминации (R^2):\", r2)\n",
    "mse = mean_squared_error(y_test, y_pred)\n",
    "print(\"Среднеквадратическая ошибка (MSE):\", mse)"
   ]
  },
  {
   "cell_type": "markdown",
   "id": "d4c59579",
   "metadata": {},
   "source": [
    "###### Парабола"
   ]
  },
  {
   "cell_type": "code",
   "execution_count": 61,
   "id": "ab96c0e1",
   "metadata": {},
   "outputs": [],
   "source": [
    "df_par = df.copy()\n",
    "x = pd.DataFrame()\n",
    "x_c = ['time_study']\n",
    "for c in x_c:\n",
    "    df_par[f'{c}^2'] = df_par[c] ** 2\n",
    "    x[c] = df_par[c]\n",
    "    x[f'{c}^2'] = df_par[f'{c}^2']"
   ]
  },
  {
   "cell_type": "code",
   "execution_count": 62,
   "id": "11ee0596",
   "metadata": {},
   "outputs": [
    {
     "name": "stdout",
     "output_type": "stream",
     "text": [
      "Коэффициент детерминации (R^2): 0.9420722851428084\n",
      "Среднеквадратическая ошибка (MSE): 12.540851136177054\n"
     ]
    }
   ],
   "source": [
    "par_model = LinearRegression()\n",
    "x = df_par[['number_courses', 'time_study']]    # независимые переменные\n",
    "y = df_par[['marks']]    # зависимая переменная\n",
    "x_train, x_test, y_train, y_test = train_test_split(x, y, test_size=0.33, random_state=42)\n",
    "hip_model.fit(x_train, y_train)\n",
    "y_pred = hip_model.predict(x_test)\n",
    "r2 = r2_score(y_test, y_pred)\n",
    "print(\"Коэффициент детерминации (R^2):\", r2)\n",
    "mse = mean_squared_error(y_test, y_pred)\n",
    "print(\"Среднеквадратическая ошибка (MSE):\", mse)"
   ]
  },
  {
   "cell_type": "code",
   "execution_count": 63,
   "id": "31880fd1",
   "metadata": {},
   "outputs": [],
   "source": [
    "df_par = date.copy()\n",
    "x = pd.DataFrame()\n",
    "for c in x_c:\n",
    "    df_par[f'{c}^2'] = df_par[c] ** 2\n",
    "    x[c] = df_par[c]\n",
    "    x[f'{c}^2'] = df_par[f'{c}^2']"
   ]
  },
  {
   "cell_type": "code",
   "execution_count": 64,
   "id": "660bb4cc",
   "metadata": {},
   "outputs": [
    {
     "name": "stdout",
     "output_type": "stream",
     "text": [
      "Коэффициент детерминации (R^2): 0.9404887874887075\n",
      "Среднеквадратическая ошибка (MSE): 12.883664734184883\n"
     ]
    }
   ],
   "source": [
    "par_model = LinearRegression()\n",
    "x_c_date = ['time_study','cours_3', 'cours_4', 'cours_5', 'cours_6',\n",
    "       'cours_7', 'cours_8']\n",
    "x = df_par[x_c_date]    # независимые переменные\n",
    "y = df_par[['marks']]    # зависимая переменная\n",
    "x_train, x_test, y_train, y_test = train_test_split(x, y, test_size=0.33, random_state=42)\n",
    "hip_model.fit(x_train, y_train)\n",
    "y_pred = hip_model.predict(x_test)\n",
    "r2 = r2_score(y_test, y_pred)\n",
    "print(\"Коэффициент детерминации (R^2):\", r2)\n",
    "mse = mean_squared_error(y_test, y_pred)\n",
    "print(\"Среднеквадратическая ошибка (MSE):\", mse)"
   ]
  },
  {
   "cell_type": "markdown",
   "id": "1de49fe2",
   "metadata": {},
   "source": [
    "###### Полулогарифмическая модель"
   ]
  },
  {
   "cell_type": "code",
   "execution_count": 65,
   "id": "56a9605b",
   "metadata": {},
   "outputs": [],
   "source": [
    "df_log = date.copy()\n",
    "for c in x_c:\n",
    "    df_log = df_log[df_log[c] > 0]\n",
    "    df_log[c] = np.log(df_log[c])"
   ]
  },
  {
   "cell_type": "code",
   "execution_count": 66,
   "id": "3626f385",
   "metadata": {},
   "outputs": [
    {
     "name": "stdout",
     "output_type": "stream",
     "text": [
      "Коэффициент детерминации (R^2): 0.6144680227588748\n",
      "Среднеквадратическая ошибка (MSE): 83.46435116138038\n"
     ]
    }
   ],
   "source": [
    "log_model = LinearRegression()\n",
    "x = df_log[x_c_date]    # независимые переменные\n",
    "y = df_log[['marks']]    # зависимая переменная\n",
    "x_train, x_test, y_train, y_test = train_test_split(x, y, test_size=0.33, random_state=42)\n",
    "log_model.fit(x_train, y_train)\n",
    "y_pred = log_model.predict(x_test)\n",
    "r2 = r2_score(y_test, y_pred)\n",
    "print(\"Коэффициент детерминации (R^2):\", r2)\n",
    "mse = mean_squared_error(y_test, y_pred)\n",
    "print(\"Среднеквадратическая ошибка (MSE):\", mse)"
   ]
  },
  {
   "cell_type": "markdown",
   "id": "9696a364",
   "metadata": {},
   "source": [
    "###### Степенная"
   ]
  },
  {
   "cell_type": "code",
   "execution_count": 30,
   "id": "7a2f8a25",
   "metadata": {},
   "outputs": [],
   "source": [
    "df_st = date.copy()\n",
    "for c in x_c:\n",
    "    df_st = df_st[df_st[c] > 0]\n",
    "    df_st[c] = np.log(df_st[c])\n",
    "df_st['marks'] = np.log(df_st['marks'])"
   ]
  },
  {
   "cell_type": "code",
   "execution_count": 71,
   "id": "e83c859a",
   "metadata": {},
   "outputs": [
    {
     "name": "stdout",
     "output_type": "stream",
     "text": [
      "Коэффициент детерминации (R^2): 0.6759350020541407\n",
      "Среднеквадратическая ошибка (MSE): 0.1335151546351894\n"
     ]
    }
   ],
   "source": [
    "st_model = LinearRegression()\n",
    "x = df_st[x_c]    # независимые переменные\n",
    "y = df_st[[\"marks\"]]    # зависимая переменная\n",
    "x_train, x_test, y_train, y_test = train_test_split(x, y, test_size=0.33, random_state=42)\n",
    "st_model.fit(x_train, y_train)\n",
    "y_pred = st_model.predict(x_test)\n",
    "r2 = r2_score(y_test, y_pred)\n",
    "print(\"Коэффициент детерминации (R^2):\", r2)\n",
    "mse = mean_squared_error(y_test, y_pred)\n",
    "print(\"Среднеквадратическая ошибка (MSE):\", mse)"
   ]
  },
  {
   "cell_type": "code",
   "execution_count": 72,
   "id": "05394893",
   "metadata": {},
   "outputs": [
    {
     "name": "stdout",
     "output_type": "stream",
     "text": [
      "Коэффициент детерминации (R^2): 0.7784453525701922\n",
      "Среднеквадратическая ошибка (MSE): 0.09128077144782436\n"
     ]
    }
   ],
   "source": [
    "st_model = LinearRegression()\n",
    "x = df_st[x_c_date]    # независимые переменные\n",
    "y = df_st[[\"marks\"]]    # зависимая переменная\n",
    "x_train, x_test, y_train, y_test = train_test_split(x, y, test_size=0.33, random_state=42)\n",
    "st_model.fit(x_train, y_train)\n",
    "y_pred = st_model.predict(x_test)\n",
    "r2 = r2_score(y_test, y_pred)\n",
    "print(\"Коэффициент детерминации (R^2):\", r2)\n",
    "mse = mean_squared_error(y_test, y_pred)\n",
    "print(\"Среднеквадратическая ошибка (MSE):\", mse)"
   ]
  },
  {
   "cell_type": "markdown",
   "id": "4d3559f9",
   "metadata": {},
   "source": [
    "###### Показательная"
   ]
  },
  {
   "cell_type": "code",
   "execution_count": 74,
   "id": "3e9f7024",
   "metadata": {},
   "outputs": [
    {
     "name": "stdout",
     "output_type": "stream",
     "text": [
      "Коэффициент детерминации (R^2): 0.9757772076906533\n",
      "Среднеквадратическая ошибка (MSE): 0.009979818497457138\n"
     ]
    }
   ],
   "source": [
    "df_pok = date.copy()\n",
    "pok_model = LinearRegression()\n",
    "x = df_pok[x_c_date]    # независимые переменные\n",
    "y = np.log(df_pok[[\"marks\"]])    # зависимая переменная\n",
    "x_train, x_test, y_train, y_test = train_test_split(x, y, test_size=0.33, random_state=42)\n",
    "pok_model.fit(x_train, y_train)\n",
    "y_pred = pok_model.predict(x_test)\n",
    "r2 = r2_score(y_test, y_pred)\n",
    "print(\"Коэффициент детерминации (R^2):\", r2)\n",
    "mse = mean_squared_error(y_test, y_pred)\n",
    "print(\"Среднеквадратическая ошибка (MSE):\", mse)"
   ]
  },
  {
   "cell_type": "markdown",
   "id": "edf82f0c",
   "metadata": {},
   "source": [
    "###### Благодарю за внимание!"
   ]
  }
 ],
 "metadata": {
  "kernelspec": {
   "display_name": "Python 3 (ipykernel)",
   "language": "python",
   "name": "python3"
  },
  "language_info": {
   "codemirror_mode": {
    "name": "ipython",
    "version": 3
   },
   "file_extension": ".py",
   "mimetype": "text/x-python",
   "name": "python",
   "nbconvert_exporter": "python",
   "pygments_lexer": "ipython3",
   "version": "3.11.4"
  }
 },
 "nbformat": 4,
 "nbformat_minor": 5
}
